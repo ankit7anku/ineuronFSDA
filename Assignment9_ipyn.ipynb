{
  "nbformat": 4,
  "nbformat_minor": 0,
  "metadata": {
    "colab": {
      "provenance": []
    },
    "kernelspec": {
      "name": "python3",
      "display_name": "Python 3"
    },
    "language_info": {
      "name": "python"
    }
  },
  "cells": [
    {
      "cell_type": "markdown",
      "source": [
        "### 1. Write a Python program to check if the given number is a Disarium Number?"
      ],
      "metadata": {
        "id": "wIaJVIVnL6lu"
      }
    },
    {
      "cell_type": "code",
      "source": [
        "import math\n",
        "def check(n) :\n",
        "\tcount_digits = len(str(n))\n",
        "\tsum = 0\n",
        "\tx = n\n",
        "\twhile (x!=0) :\n",
        "\t\tr = x % 10\n",
        "\t\tsum = (int) (sum + math.pow(r, count_digits))\n",
        "\t\tcount_digits = count_digits - 1\n",
        "\t\tx = x//10\n",
        "\n",
        "\tif sum == n :\n",
        "\t\treturn 1\n",
        "\telse :\n",
        "\t\treturn 0\n",
        "num = int(input(\"Enter number \"))\n",
        "if (check(num) == 1) :\n",
        "\tprint (\"Disarium Number\")\n",
        "else :\n",
        "\tprint (\"Not a Disarium Number\")\n",
        "\n"
      ],
      "metadata": {
        "colab": {
          "base_uri": "https://localhost:8080/"
        },
        "id": "04DkEKFZL-K2",
        "outputId": "4f3dd9af-6f63-4fdd-bf81-5a0afce79472"
      },
      "execution_count": null,
      "outputs": [
        {
          "output_type": "stream",
          "name": "stdout",
          "text": [
            "Enter number 135\n",
            "Disarium Number\n"
          ]
        }
      ]
    },
    {
      "cell_type": "code",
      "source": [
        "import math\n",
        "def check(n) :\n",
        "\tcount_digits = len(str(n))\n",
        "\tsum = 0\n",
        "\tx = n\n",
        "\twhile (x!=0) :\n",
        "\t\tr = x % 10\n",
        "\t\tsum = (int) (sum + math.pow(r, count_digits))\n",
        "\t\tcount_digits = count_digits - 1\n",
        "\t\tx = x//10\n",
        "\tif sum == n :\n",
        "\t\treturn 1\n",
        "\telse :\n",
        "\t\treturn 0\n",
        "num = int(input(\"Enter number \"))\n",
        "if (check(num) == 1) :\n",
        "\tprint (\"Disarium Number\")\n",
        "else :\n",
        "\tprint (\"Not a Disarium Number\")"
      ],
      "metadata": {
        "colab": {
          "base_uri": "https://localhost:8080/"
        },
        "id": "kJeKXSRpPVD1",
        "outputId": "65bd6de1-c786-466f-8e09-15b24cb40de7"
      },
      "execution_count": null,
      "outputs": [
        {
          "output_type": "stream",
          "name": "stdout",
          "text": [
            "Enter number 100\n",
            "Not a Disarium Number\n"
          ]
        }
      ]
    },
    {
      "cell_type": "markdown",
      "source": [
        "### 2. Write a Python program to print all disarium numbers between 1 to 100?"
      ],
      "metadata": {
        "id": "fcQvHuRcL_x7"
      }
    },
    {
      "cell_type": "code",
      "source": [
        "\n",
        "def cal_len(n):\n",
        "    len = 0;\n",
        "    while(n != 0):\n",
        "        len = len + 1;\n",
        "        n = n//10;\n",
        "    return len;\n",
        "def disarium(num):\n",
        "    rem = sum = 0;\n",
        "    len = cal_len(num);\n",
        "\n",
        "    while(num > 0):\n",
        "        rem = num%10;\n",
        "        sum = sum + (rem**len);\n",
        "        num = num//10;\n",
        "        len = len - 1;\n",
        "    return sum;\n",
        "print(\"Disarium numbers between 1 and 100 are\");\n",
        "for i in range(1, 101):\n",
        "    result = disarium(i);\n",
        "\n",
        "    if(result == i):\n",
        "        print(i),\n"
      ],
      "metadata": {
        "id": "M5DSLEwvMSRm",
        "colab": {
          "base_uri": "https://localhost:8080/"
        },
        "outputId": "00fcdb2f-16bb-413e-cc2a-73b92fc2f2ce"
      },
      "execution_count": 4,
      "outputs": [
        {
          "output_type": "stream",
          "name": "stdout",
          "text": [
            "Disarium numbers between 1 and 100 are\n",
            "1\n",
            "2\n",
            "3\n",
            "4\n",
            "5\n",
            "6\n",
            "7\n",
            "8\n",
            "9\n",
            "89\n"
          ]
        }
      ]
    },
    {
      "cell_type": "markdown",
      "source": [
        "### 3. Write a Python program to check if the given number is Happy Number?"
      ],
      "metadata": {
        "id": "r7LwrXL9MI1-"
      }
    },
    {
      "cell_type": "code",
      "source": [
        "\n",
        "num = int(input(\"Enter a number: \"))\n",
        "def happy_Number(num):\n",
        "    rem = sum = 0;\n",
        "\n",
        "    while(num > 0):\n",
        "        rem = num%10;\n",
        "        sum = sum + (rem*rem);\n",
        "        num = num//10;\n",
        "    return sum;\n",
        "result = num;\n",
        "while(result != 1 and result != 4):\n",
        "    result = happy_Number(result);\n",
        "\n",
        "if(result == 1):\n",
        "    print(str(num) + \" is a happy number\");\n",
        "elif(result == 4):\n",
        "    print(str(num) + \" is not a happy number\");"
      ],
      "metadata": {
        "id": "y8Kh5yF0MSuN",
        "colab": {
          "base_uri": "https://localhost:8080/"
        },
        "outputId": "13671149-a2f7-4ec6-bf11-e19bfaa0e6f0"
      },
      "execution_count": 8,
      "outputs": [
        {
          "output_type": "stream",
          "name": "stdout",
          "text": [
            "Enter a number: 82\n",
            "82 is a happy number\n"
          ]
        }
      ]
    },
    {
      "cell_type": "code",
      "source": [
        "num = int(input(\"Enter a number: \"))\n",
        "def happy_Number(num):\n",
        "    rem = sum = 0;\n",
        "\n",
        "    while(num > 0):\n",
        "        rem = num%10;\n",
        "        sum = sum + (rem*rem);\n",
        "        num = num//10;\n",
        "    return sum;\n",
        "result = num;\n",
        "\n",
        "while(result != 1 and result != 4):\n",
        "    result = happy_Number(result);\n",
        "if(result == 1):\n",
        "    print(str(num) + \" is a happy number\");\n",
        "elif(result == 4):\n",
        "    print(str(num) + \" is not a happy number\");"
      ],
      "metadata": {
        "colab": {
          "base_uri": "https://localhost:8080/"
        },
        "id": "u43CHE35WkCv",
        "outputId": "dc72f33e-46dd-495b-f0b6-6ae23988846d"
      },
      "execution_count": 10,
      "outputs": [
        {
          "output_type": "stream",
          "name": "stdout",
          "text": [
            "Enter a number: 4\n",
            "4 is not a happy number\n"
          ]
        }
      ]
    },
    {
      "cell_type": "markdown",
      "source": [
        "### 4. Write a Python program to print all happy numbers between 1 and 100?"
      ],
      "metadata": {
        "id": "MHVu-4HeML7E"
      }
    },
    {
      "cell_type": "code",
      "source": [
        "def check_happy(number):\n",
        "  remainder = 0\n",
        "  happy_num = 0;\n",
        "  while(number > 0):\n",
        "    remainder = number%10;\n",
        "    happy_num = happy_num + (remainder*remainder);\n",
        "    number = number//10;\n",
        "  return happy_num;\n",
        "\n",
        "lower = int(input(\"Enter lower value : \"))\n",
        "upper = int(input(\"Enter highest value : \"))\n",
        "print(\"Happy numbers are between ({},{}) are100 -\".format(lower,upper))\n",
        "for i in range(lower,upper+1):\n",
        "  happy_num = i\n",
        "  while(happy_num != 1 and happy_num != 4):\n",
        "    happy_num = check_happy(happy_num)\n",
        "  if(happy_num == 1):\n",
        "    print(i,end=\" \")"
      ],
      "metadata": {
        "id": "RxHy7x3MMTLl",
        "colab": {
          "base_uri": "https://localhost:8080/"
        },
        "outputId": "c0ff799e-3dfe-433e-87d0-54ff84d72147"
      },
      "execution_count": 12,
      "outputs": [
        {
          "output_type": "stream",
          "name": "stdout",
          "text": [
            "Enter lower value : 1\n",
            "Enter highest value : 100\n",
            "Happy numbers are between (1,100) are -\n",
            "1 7 10 13 19 23 28 31 32 44 49 68 70 79 82 86 91 94 97 100 "
          ]
        }
      ]
    },
    {
      "cell_type": "markdown",
      "source": [
        "### 5. Write a Python program to determine whether the given number is a Harshad Number?"
      ],
      "metadata": {
        "id": "VehOkKkDMNv4"
      }
    },
    {
      "cell_type": "code",
      "source": [
        "num1= int(input(\"enter the number of choice :- \"))\n",
        "rem = sum = 0;\n",
        "n = num1;\n",
        "while(num1 > 0):\n",
        "    rem = num1%10;\n",
        "    sum = sum + rem;\n",
        "    num1 = num1//10;\n",
        "\n",
        "if(n%sum == 0):\n",
        "    print(str(n) + \" is a harshad number\");\n",
        "else:\n",
        "    print(str(n) + \" is not a harshad number\");"
      ],
      "metadata": {
        "id": "rq0tCv4GMTrO",
        "colab": {
          "base_uri": "https://localhost:8080/"
        },
        "outputId": "557f7c82-2178-4bcb-ba0f-ccdd7119fb87"
      },
      "execution_count": 15,
      "outputs": [
        {
          "output_type": "stream",
          "name": "stdout",
          "text": [
            "enter the number of choice :- 156\n",
            "156 is a harshad number\n"
          ]
        }
      ]
    },
    {
      "cell_type": "code",
      "source": [
        "num1= int(input(\"enter the number of choice :- \"))\n",
        "rem = sum = 0;\n",
        "n = num1;\n",
        "while(num1 > 0):\n",
        "    rem = num1%10;\n",
        "    sum = sum + rem;\n",
        "    num1 = num1//10;\n",
        "\n",
        "if(n%sum == 0):\n",
        "    print(str(n) + \" is a harshad number\");\n",
        "else:\n",
        "    print(str(n) + \" is not a harshad number\");"
      ],
      "metadata": {
        "colab": {
          "base_uri": "https://localhost:8080/"
        },
        "id": "hLtWoP19ZmGe",
        "outputId": "644895f4-dc32-470b-e0df-800dec155572"
      },
      "execution_count": 16,
      "outputs": [
        {
          "output_type": "stream",
          "name": "stdout",
          "text": [
            "enter the number of choice :- 155\n",
            "155 is not a harshad number\n"
          ]
        }
      ]
    },
    {
      "cell_type": "markdown",
      "source": [
        "### 6. Write a Python program to print all pronic numbers between 1 and 100?"
      ],
      "metadata": {
        "id": "RfqWo7dAMQXd"
      }
    },
    {
      "cell_type": "code",
      "source": [
        "def isPronicNumber(num):\n",
        "    flag = False;\n",
        "\n",
        "    for k in range(1, num+1):\n",
        "        if((k*(k+1)) == num):\n",
        "            flag = True;\n",
        "            break;\n",
        "    return flag;\n",
        "\n",
        "print(\"Pronic numbers between 1 and 100: \");\n",
        "for i in range(1, 101):\n",
        "    if(isPronicNumber(i)):\n",
        "        print(i,\"\") ,\n",
        ""
      ],
      "metadata": {
        "id": "Ckso2nECMRdo",
        "colab": {
          "base_uri": "https://localhost:8080/"
        },
        "outputId": "c9f42b6b-70ca-4ae8-a6e3-cacdf72b5cd1"
      },
      "execution_count": 18,
      "outputs": [
        {
          "output_type": "stream",
          "name": "stdout",
          "text": [
            "Pronic numbers between 1 and 100: \n",
            "2 \n",
            "6 \n",
            "12 \n",
            "20 \n",
            "30 \n",
            "42 \n",
            "56 \n",
            "72 \n",
            "90 \n"
          ]
        }
      ]
    }
  ]
}