{
  "nbformat": 4,
  "nbformat_minor": 0,
  "metadata": {
    "colab": {
      "provenance": []
    },
    "kernelspec": {
      "name": "python3",
      "display_name": "Python 3"
    },
    "language_info": {
      "name": "python"
    }
  },
  "cells": [
    {
      "cell_type": "markdown",
      "source": [
        "#Write a Python program to Extract Unique values dictionary values?"
      ],
      "metadata": {
        "id": "mE61Mw2jnMeB"
      }
    },
    {
      "cell_type": "code",
      "execution_count": 4,
      "metadata": {
        "colab": {
          "base_uri": "https://localhost:8080/"
        },
        "id": "BD4nJqCGiJDW",
        "outputId": "19fc259d-3aac-4d24-826c-57af033b7657"
      },
      "outputs": [
        {
          "output_type": "stream",
          "name": "stdout",
          "text": [
            "The original dict values: {'a': [1, 2, 3], 'b': [2, 3, 4], 'c': 3, 'd': 5}\n",
            "Unique values in the dictionary: [1, 2, 3, 4, 5]\n"
          ]
        }
      ],
      "source": [
        "my_dict = {\n",
        "    'a': [1, 2, 3],\n",
        "    'b': [2, 3, 4],\n",
        "    'c': 3,\n",
        "    'd': 5\n",
        "}\n",
        "\n",
        "print(\"The original dict values:\", my_dict)\n",
        "\n",
        "result = []\n",
        "for val in my_dict.values():\n",
        "    if isinstance(val, (list, tuple)):\n",
        "        for j in val:\n",
        "            if j not in result:\n",
        "                result.append(j)\n",
        "    else:\n",
        "        if val not in result:\n",
        "            result.append(val)\n",
        "\n",
        "print(\"Unique values in the dictionary:\", result)\n"
      ]
    },
    {
      "cell_type": "markdown",
      "source": [
        "#Write a Python program to find the sum of all items in a dictionary"
      ],
      "metadata": {
        "id": "UkR4yJv8p3V4"
      }
    },
    {
      "cell_type": "code",
      "source": [
        "def sum_dict(input_dict):\n",
        "    total = 0\n",
        "    for value in input_dict.values():\n",
        "        if isinstance(value, (int, float)):\n",
        "            total += value\n",
        "\n",
        "    return total\n",
        "\n",
        "my_dict = {\n",
        "    'a': 10,\n",
        "    'b': 20.5,\n",
        "    'c': 30,\n",
        "    'd': 40.75,\n",
        "    'e': 12,\n",
        "\n",
        "}\n",
        "\n",
        "total_sum = sum_dict(my_dict)\n",
        "print(\"Sum of all items in the dictionary:\", total_sum)\n"
      ],
      "metadata": {
        "colab": {
          "base_uri": "https://localhost:8080/"
        },
        "id": "eP2-Zghhp4bv",
        "outputId": "731ec0ba-434e-4931-8316-225340516346"
      },
      "execution_count": 7,
      "outputs": [
        {
          "output_type": "stream",
          "name": "stdout",
          "text": [
            "Sum of all items in the dictionary: 113.25\n"
          ]
        }
      ]
    },
    {
      "cell_type": "markdown",
      "source": [
        "#Write a Python program to Merge two Dictionaries?"
      ],
      "metadata": {
        "id": "npib69iOqtg3"
      }
    },
    {
      "cell_type": "code",
      "source": [
        "def merge_dicts(dict1, dict2):\n",
        "    result_dict = dict1.copy()\n",
        "    result_dict.update(dict2)\n",
        "    return result_dict\n",
        "\n",
        "dict1 = {'a': 1, 'b': 2}\n",
        "dict2 = {'b': 3, 'c': 4}\n",
        "\n",
        "merged_dict = merge_dicts(dict1, dict2)\n",
        "print(\"Merged dictionary:\", merged_dict)\n"
      ],
      "metadata": {
        "colab": {
          "base_uri": "https://localhost:8080/"
        },
        "id": "VtI9twLSqdQC",
        "outputId": "eff59fae-90af-47ac-a599-66253156f302"
      },
      "execution_count": 8,
      "outputs": [
        {
          "output_type": "stream",
          "name": "stdout",
          "text": [
            "Merged dictionary: {'a': 1, 'b': 3, 'c': 4}\n"
          ]
        }
      ]
    },
    {
      "cell_type": "markdown",
      "source": [
        "#Write a Python program to convert the key-values list to a flat dictionary"
      ],
      "metadata": {
        "id": "6Xom9BH2rI0F"
      }
    },
    {
      "cell_type": "code",
      "source": [
        "def list_to_flat_dict(kv_list):\n",
        "    flat_dict = {}\n",
        "\n",
        "    for key, value in kv_list:\n",
        "        flat_dict[key] = value\n",
        "\n",
        "    return flat_dict\n",
        "\n",
        "kv_list = [('a', 1), ('b', 2), ('c', 3), ('a', 4)]\n",
        "\n",
        "flat_dictionary = list_to_flat_dict(kv_list)\n",
        "print(\"Flat dictionary:\", flat_dictionary)\n"
      ],
      "metadata": {
        "colab": {
          "base_uri": "https://localhost:8080/"
        },
        "id": "gO6lv8bcrMck",
        "outputId": "12ce4892-a21f-47c6-8eaa-63a3c1dba2c3"
      },
      "execution_count": 24,
      "outputs": [
        {
          "output_type": "stream",
          "name": "stdout",
          "text": [
            "Flat dictionary: {'a': 4, 'b': 2, 'c': 3}\n"
          ]
        }
      ]
    },
    {
      "cell_type": "markdown",
      "source": [
        "#. Write a Python program to sort Python Dictionaries by Key or Value?"
      ],
      "metadata": {
        "id": "W3CU4UmsrtVc"
      }
    },
    {
      "cell_type": "code",
      "source": [
        "\n",
        "my_dict = {'a': 2, 'c': 1, 'b': 3}\n",
        "print(\" original dict:- \", my_dict)\n",
        "\n",
        "def sort_dict_by_keys(input_dict):\n",
        "    sorted_dict = dict(sorted(input_dict.items()))\n",
        "    return sorted_dict\n",
        "\n",
        "\n",
        "sorted_by_keys = sort_dict_by_keys(my_dict)\n",
        "print(\"Sorted by keys:\", sorted_by_keys)\n",
        "\n",
        "\n",
        "def sort_dict_by_values(input_dict):\n",
        "    sorted_dict = dict(sorted(input_dict.items(), key=lambda item: item[1]))\n",
        "    return sorted_dict\n",
        "\n",
        "sorted_by_values = sort_dict_by_values(my_dict)\n",
        "print(\"Sorted by values:\", sorted_by_values)\n",
        "\n",
        "\n",
        "\n",
        "\n"
      ],
      "metadata": {
        "colab": {
          "base_uri": "https://localhost:8080/"
        },
        "id": "URWdzFX6ru-R",
        "outputId": "efedc365-d946-42e2-9ac7-3f4e6b027d7f"
      },
      "execution_count": 23,
      "outputs": [
        {
          "output_type": "stream",
          "name": "stdout",
          "text": [
            " original dict:-  {'a': 2, 'c': 1, 'b': 3}\n",
            "Sorted by keys: {'a': 2, 'b': 3, 'c': 1}\n",
            "Sorted by values: {'c': 1, 'a': 2, 'b': 3}\n"
          ]
        }
      ]
    }
  ]
}