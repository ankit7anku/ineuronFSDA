{
  "nbformat": 4,
  "nbformat_minor": 0,
  "metadata": {
    "colab": {
      "provenance": []
    },
    "kernelspec": {
      "name": "python3",
      "display_name": "Python 3"
    },
    "language_info": {
      "name": "python"
    }
  },
  "cells": [
    {
      "cell_type": "markdown",
      "source": [
        "### 1. Write a Python Program to find sum of array?"
      ],
      "metadata": {
        "id": "Tm6QYtb5bSfO"
      }
    },
    {
      "cell_type": "code",
      "source": [
        "def array_sum(arr):\n",
        "    total = 0\n",
        "    for num in arr:\n",
        "        total += num\n",
        "    return total\n",
        "arr=list(map(int,input(\"Enter elements \").split()))\n",
        "result = array_sum(arr)\n",
        "print(f\"The sum of the elements in the array is {result}\")\n",
        "\n"
      ],
      "metadata": {
        "colab": {
          "base_uri": "https://localhost:8080/"
        },
        "id": "XaVZ9GFAbbkp",
        "outputId": "b5c28d5e-fc8a-45a8-b575-7160af25d17a"
      },
      "execution_count": 3,
      "outputs": [
        {
          "output_type": "stream",
          "name": "stdout",
          "text": [
            "Enter elements 3 4 5 6 7 3 7 89 9 \n",
            "The sum of the elements in the array is 133\n"
          ]
        }
      ]
    },
    {
      "cell_type": "markdown",
      "source": [
        "### 2. Write a Python Program to find largest element in an array?\n"
      ],
      "metadata": {
        "id": "NRGvBdycbUTo"
      }
    },
    {
      "cell_type": "code",
      "source": [
        "def find_largest(arr):\n",
        "    largest = arr[0]\n",
        "    for num in arr:\n",
        "        if num > largest:\n",
        "            largest = num\n",
        "    return largest\n",
        "\n",
        "arr=list(map(int,input(\"Enter elements \").split()))\n",
        "largest_element = find_largest(arr)\n",
        "print(f\"The largest element in the array is {largest_element}\")\n"
      ],
      "metadata": {
        "colab": {
          "base_uri": "https://localhost:8080/"
        },
        "id": "XO1CTscdbcXr",
        "outputId": "7faf1ef3-71fa-4228-d976-f958a9ba7cdf"
      },
      "execution_count": 4,
      "outputs": [
        {
          "output_type": "stream",
          "name": "stdout",
          "text": [
            "Enter elements 67 39 202 838 29240 47\n",
            "The largest element in the array is 29240\n"
          ]
        }
      ]
    },
    {
      "cell_type": "markdown",
      "source": [
        "### 3. Write a Python Program for array rotation?"
      ],
      "metadata": {
        "id": "sxBwU6wYbV0N"
      }
    },
    {
      "cell_type": "code",
      "source": [
        "def rotate_array(arr, k):\n",
        "    n = len(arr)\n",
        "    k = k % n\n",
        "    return arr[k:] + arr[:k]\n",
        "\n",
        "arr=list(map(int,input(\"Enter elements \").split()))\n",
        "k = int(input(\"Enter the number of positions to rotate: \"))\n",
        "\n",
        "rotated_arr = rotate_array(arr, k)\n",
        "print(\"Rotated array:\", rotated_arr)\n"
      ],
      "metadata": {
        "colab": {
          "base_uri": "https://localhost:8080/"
        },
        "id": "I_6EMyA2bdEw",
        "outputId": "ec635c5b-6fd3-4b4f-f634-14acc8802b34"
      },
      "execution_count": 5,
      "outputs": [
        {
          "output_type": "stream",
          "name": "stdout",
          "text": [
            "Enter elements 1 2 3 4 5 6 7\n",
            "Enter the number of positions to rotate: 4\n",
            "Rotated array: [5, 6, 7, 1, 2, 3, 4]\n"
          ]
        }
      ]
    },
    {
      "cell_type": "markdown",
      "source": [
        "### 4. Write a Python Program to Split the array and add the first part to the end?"
      ],
      "metadata": {
        "id": "OpNDmg_4bXXR"
      }
    },
    {
      "cell_type": "markdown",
      "source": [
        "###Both question 3,4 are of same meaning but way of asking the question is different manner"
      ],
      "metadata": {
        "id": "KYID1CXYtazB"
      }
    },
    {
      "cell_type": "code",
      "source": [
        "def split_and_add(arr, split_index):\n",
        "    if split_index >= len(arr):\n",
        "        return arr\n",
        "    return arr[split_index:] + arr[:split_index]\n",
        "\n",
        "arr=list(map(int,input(\"Enter elements \").split()))\n",
        "split_index = int(input(\"Enter the split index: \"))\n",
        "\n",
        "result = split_and_add(arr, split_index)\n",
        "print(\"Array after split and addition:\", result)\n"
      ],
      "metadata": {
        "colab": {
          "base_uri": "https://localhost:8080/"
        },
        "id": "dTSF4DVzbdxY",
        "outputId": "fb2e58f6-9691-49fd-8ece-e01551f59e92"
      },
      "execution_count": 6,
      "outputs": [
        {
          "output_type": "stream",
          "name": "stdout",
          "text": [
            "Enter elements 1 2 3 4 5 6 7\n",
            "Enter the split index: 4\n",
            "Array after split and addition: [5, 6, 7, 1, 2, 3, 4]\n"
          ]
        }
      ]
    },
    {
      "cell_type": "markdown",
      "source": [
        "### 5. Write a Python Program to check if given array is Monotonic?"
      ],
      "metadata": {
        "id": "92IeJbuTbY__"
      }
    },
    {
      "cell_type": "code",
      "source": [
        "def is_monotonic(arr):\n",
        "    increasing = decreasing = True\n",
        "\n",
        "    for i in range(1, len(arr)):\n",
        "        if arr[i] > arr[i - 1]:\n",
        "            decreasing = False\n",
        "        elif arr[i] < arr[i - 1]:\n",
        "            increasing = False\n",
        "\n",
        "    return increasing or decreasing\n",
        "\n",
        "arr=list(map(int,input(\"Enter elements \").split()))\n",
        "\n",
        "monotonic = is_monotonic(arr)\n",
        "\n",
        "if monotonic:\n",
        "    print(\"The array is monotonic.\")\n",
        "else:\n",
        "    print(\"The array is not monotonic.\")\n"
      ],
      "metadata": {
        "colab": {
          "base_uri": "https://localhost:8080/"
        },
        "id": "BzWJ1cZtbZsL",
        "outputId": "40f61158-9af7-4e69-9cbd-c8d98f5dc35e"
      },
      "execution_count": 7,
      "outputs": [
        {
          "output_type": "stream",
          "name": "stdout",
          "text": [
            "Enter elements 8 6 4 3 2 5\n",
            "The array is not monotonic.\n"
          ]
        }
      ]
    }
  ]
}