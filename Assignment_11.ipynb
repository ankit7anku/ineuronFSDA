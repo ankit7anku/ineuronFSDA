{
  "nbformat": 4,
  "nbformat_minor": 0,
  "metadata": {
    "colab": {
      "provenance": []
    },
    "kernelspec": {
      "name": "python3",
      "display_name": "Python 3"
    },
    "language_info": {
      "name": "python"
    }
  },
  "cells": [
    {
      "cell_type": "markdown",
      "source": [
        "#Write a Python program to find a word that is greater than the given length k."
      ],
      "metadata": {
        "id": "z3Sxxp8TTsmn"
      }
    },
    {
      "cell_type": "code",
      "execution_count": 3,
      "metadata": {
        "colab": {
          "base_uri": "https://localhost:8080/"
        },
        "id": "Xpdq8vCwTr4R",
        "outputId": "36141589-2f97-4a09-a7eb-7d8f1d78a5f0"
      },
      "outputs": [
        {
          "output_type": "stream",
          "name": "stdout",
          "text": [
            " Enter some sentance of your choice:- Hello welcome to my code , please review\n",
            " Enter the length greater than which you want search:- 3\n",
            "The words greater than  3  is :-  ['Hello', 'welcome', 'code', 'please', 'review']\n"
          ]
        }
      ],
      "source": [
        "my_string=input(\" Enter some sentance of your choice:- \")\n",
        "string_len=int(input(\" Enter the length greater than which you want search:- \"))\n",
        "\n",
        "def find_word(my_string,string_len):\n",
        "    result_string=[]\n",
        "    words = my_string.split(\" \")\n",
        "\n",
        "    for x in words:\n",
        "       if(len(x))> string_len:\n",
        "          result_string.append(x)\n",
        "    return result_string\n",
        "print(\"The words greater than \",string_len, \" is :- \", find_word(my_string,string_len))\n",
        "\n",
        "\n"
      ]
    },
    {
      "cell_type": "markdown",
      "source": [
        "#Write a Python program for removing an i-th character from a string?\n"
      ],
      "metadata": {
        "id": "ArANUshpZfji"
      }
    },
    {
      "cell_type": "code",
      "source": [
        "my_string=input(\" Enter  sentance of your choice:- \")\n",
        "string_len=int(input(\" Enter the character position which you want to remove:- \"))\n",
        "\n",
        "def remove_char(s, i):\n",
        "  a = s[:i-1]\n",
        "  b = s[i:]\n",
        "  return a+b\n",
        "\n",
        "print(remove_char(my_string,string_len))\n",
        "\n"
      ],
      "metadata": {
        "colab": {
          "base_uri": "https://localhost:8080/"
        },
        "id": "DgtLvZWcZieb",
        "outputId": "a9170a4c-9f67-415b-cc99-4e8488845ef3"
      },
      "execution_count": 5,
      "outputs": [
        {
          "output_type": "stream",
          "name": "stdout",
          "text": [
            " Enter  sentance of your choice:- this is ak\n",
            " Enter the character position which you want to remove:- 4\n",
            "thi is ak\n"
          ]
        }
      ]
    },
    {
      "cell_type": "markdown",
      "source": [
        "#Write a Python program to split and join a string"
      ],
      "metadata": {
        "id": "6Y6xr281alMm"
      }
    },
    {
      "cell_type": "code",
      "source": [
        "input_string=input(\" Enter  sentance of your choice:- \")\n",
        "delimiter = \" \"\n",
        "split_result = input_string.split(delimiter)\n",
        "print(\"Original String:\", input_string)\n",
        "print(\"Split Result:\", split_result)\n",
        "join_char=\"-\"\n",
        "join_result = join_char.join(split_result)\n",
        "print(\"Join Result:\", join_result)\n"
      ],
      "metadata": {
        "colab": {
          "base_uri": "https://localhost:8080/"
        },
        "id": "vyBSCMNQaoHJ",
        "outputId": "33745806-0e63-41f7-92fc-482809c807a6"
      },
      "execution_count": 6,
      "outputs": [
        {
          "output_type": "stream",
          "name": "stdout",
          "text": [
            " Enter  sentance of your choice:- Iron man tony\n",
            "Original String: Iron man tony\n",
            "Split Result: ['Iron', 'man', 'tony']\n",
            "Join Result: Iron-man-tony\n"
          ]
        }
      ]
    },
    {
      "cell_type": "markdown",
      "source": [
        "#Write a Python to check whether a given string is binary or not"
      ],
      "metadata": {
        "id": "svxckaJ-fFjb"
      }
    },
    {
      "cell_type": "code",
      "source": [
        "def is_binary_string(input_string):\n",
        "    valid_binary_chars = {'0', '1'}\n",
        "    for char in input_string:\n",
        "        if char not in valid_binary_chars:\n",
        "            return False\n",
        "\n",
        "    return True\n",
        "\n",
        "\n",
        "input_string = input(\" Enter  sentance of your choice:- \")\n",
        "if is_binary_string(input_string):\n",
        "    print(f\"'{input_string}' is a binary string.\")\n",
        "else:\n",
        "    print(f\"'{input_string}' is not a binary string.\")\n"
      ],
      "metadata": {
        "colab": {
          "base_uri": "https://localhost:8080/"
        },
        "id": "hF67EgvTeuD7",
        "outputId": "b08380b7-d498-4cd4-ddb5-12ca675dcf70"
      },
      "execution_count": 7,
      "outputs": [
        {
          "output_type": "stream",
          "name": "stdout",
          "text": [
            " Enter  sentance of your choice:- my name is this\n",
            "'my name is this' is not a binary string.\n"
          ]
        }
      ]
    },
    {
      "cell_type": "code",
      "source": [
        "def is_binary_string(input_string):\n",
        "    valid_binary_chars = {'0', '1'}\n",
        "    for char in input_string:\n",
        "        if char not in valid_binary_chars:\n",
        "            return False\n",
        "\n",
        "    return True\n",
        "\n",
        "\n",
        "input_string = input(\" Enter  sentance of your choice:- \")\n",
        "if is_binary_string(input_string):\n",
        "    print(f\"'{input_string}' is a binary string.\")\n",
        "else:\n",
        "    print(f\"'{input_string}' is not a binary string.\")"
      ],
      "metadata": {
        "colab": {
          "base_uri": "https://localhost:8080/"
        },
        "id": "PHnyd-UXfAKo",
        "outputId": "3bb18cfe-0f1e-480d-8446-ab0071ff88a2"
      },
      "execution_count": 8,
      "outputs": [
        {
          "output_type": "stream",
          "name": "stdout",
          "text": [
            " Enter  sentance of your choice:- 01001010001\n",
            "'01001010001' is a binary string.\n"
          ]
        }
      ]
    },
    {
      "cell_type": "markdown",
      "source": [
        "#Write a Python program to find uncommon words from two Strings?"
      ],
      "metadata": {
        "id": "jX2ajfSSfLAx"
      }
    },
    {
      "cell_type": "code",
      "source": [
        "def find_uncommon_words(str1, str2):\n",
        "    words1 = str1.split()\n",
        "    words2 = str2.split()\n",
        "    set1 = set(words1)\n",
        "    set2 = set(words2)\n",
        "\n",
        "\n",
        "    uncommon_words = set1.symmetric_difference(set2)\n",
        "\n",
        "    return uncommon_words\n",
        "\n",
        "\n",
        "string1 =input(\" Enter  String 1 :- \")\n",
        "string2 = input(\" Enter  String 2 :- \")\n",
        "\n",
        "uncommon = find_uncommon_words(string1, string2)\n",
        "\n",
        "print(\"Uncommon words:\", uncommon)\n"
      ],
      "metadata": {
        "colab": {
          "base_uri": "https://localhost:8080/"
        },
        "id": "ZK4FsbcCfPaE",
        "outputId": "7889425a-169e-4ec3-baa2-3c39ff9f15bb"
      },
      "execution_count": 9,
      "outputs": [
        {
          "output_type": "stream",
          "name": "stdout",
          "text": [
            " Enter  String 1 :- Hello wordl welcome to Python\n",
            " Enter  String 2 :- hello wordl welcome to java\n",
            "Uncommon words: {'Python', 'Hello', 'java', 'hello'}\n"
          ]
        }
      ]
    },
    {
      "cell_type": "markdown",
      "source": [
        "#Write a Python to find all duplicate characters in a string?\n"
      ],
      "metadata": {
        "id": "fAW71y68f2_n"
      }
    },
    {
      "cell_type": "code",
      "source": [
        "def find_duplicate_characters(input_string):\n",
        "    char_count = {}\n",
        "    duplicates = []\n",
        "\n",
        "\n",
        "    for char in input_string:\n",
        "\n",
        "        if char in char_count:\n",
        "            char_count[char] += 1\n",
        "        else:\n",
        "            char_count[char] = 1\n",
        "\n",
        "\n",
        "    for char, count in char_count.items():\n",
        "        if count > 1:\n",
        "            duplicates.append(char)\n",
        "\n",
        "    return duplicates\n",
        "\n",
        "\n",
        "input_string = input(\" Enter  String  :- \")\n",
        "duplicate_chars = find_duplicate_characters(input_string)\n",
        "\n",
        "print(\"Duplicate characters:\", duplicate_chars)\n"
      ],
      "metadata": {
        "colab": {
          "base_uri": "https://localhost:8080/"
        },
        "id": "oxsOKJeWf7pO",
        "outputId": "b111547d-4605-4071-ee47-08999a2cd8e7"
      },
      "execution_count": 10,
      "outputs": [
        {
          "output_type": "stream",
          "name": "stdout",
          "text": [
            " Enter  String  :- Hello google colab\n",
            "Duplicate characters: ['e', 'l', 'o', ' ', 'g']\n"
          ]
        }
      ]
    },
    {
      "cell_type": "markdown",
      "source": [
        "#Write a Python Program to check if a string contains any special character"
      ],
      "metadata": {
        "id": "0uauNLkygp_J"
      }
    },
    {
      "cell_type": "code",
      "source": [
        "import re\n",
        "\n",
        "def contains_special_characters(input_string):\n",
        "    special_characters_pattern = r'[!@#$%^&*()_+{}\\[\\]:;<>,.?~\\\\]'\n",
        "    if re.search(special_characters_pattern, input_string):\n",
        "        return True\n",
        "    else:\n",
        "        return False\n",
        "\n",
        "\n",
        "input_string = input(\" Enter  String  :- \")\n",
        "contains_special = contains_special_characters(input_string)\n",
        "\n",
        "if contains_special:\n",
        "    print(f\"'{input_string}' contains special characters.\")\n",
        "else:\n",
        "    print(f\"'{input_string}' does not contain special characters.\")\n"
      ],
      "metadata": {
        "colab": {
          "base_uri": "https://localhost:8080/"
        },
        "id": "KOFYnCxGgq9W",
        "outputId": "ff54c0e2-5f46-43fb-a3d0-81ac0b819616"
      },
      "execution_count": 11,
      "outputs": [
        {
          "output_type": "stream",
          "name": "stdout",
          "text": [
            " Enter  String  :- #doller\n",
            "'#doller' contains special characters.\n"
          ]
        }
      ]
    }
  ]
}