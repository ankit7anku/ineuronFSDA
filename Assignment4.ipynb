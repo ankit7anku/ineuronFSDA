{
  "nbformat": 4,
  "nbformat_minor": 0,
  "metadata": {
    "colab": {
      "provenance": []
    },
    "kernelspec": {
      "name": "python3",
      "display_name": "Python 3"
    },
    "language_info": {
      "name": "python"
    }
  },
  "cells": [
    {
      "cell_type": "markdown",
      "source": [
        "### 1. Write a Python Program to Find the Factorial of a Number?"
      ],
      "metadata": {
        "id": "IAsFuCzeIQgH"
      }
    },
    {
      "cell_type": "code",
      "source": [
        "num = int(input(\"Enter a number: \"))\n",
        "factorial = 1\n",
        "if num < 0:\n",
        "   print(\" Factorial does not exist for negative numbers\")\n",
        "elif num == 0:\n",
        "   print(\"The factorial of 0 is 1\")\n",
        "else:\n",
        "   for i in range(1,num + 1):\n",
        "       factorial = factorial*i\n",
        "   print(\"The factorial of\",num,\"is\",factorial)"
      ],
      "metadata": {
        "colab": {
          "base_uri": "https://localhost:8080/"
        },
        "id": "edVRukkWJAgI",
        "outputId": "c4ed7e8a-20c4-472a-f612-9c8b54a0929b"
      },
      "execution_count": 2,
      "outputs": [
        {
          "output_type": "stream",
          "name": "stdout",
          "text": [
            "Enter a number: 19\n",
            "The factorial of 19 is 121645100408832000\n"
          ]
        }
      ]
    },
    {
      "cell_type": "markdown",
      "source": [
        "  ### 2. Write a Python Program to Display the multiplication Table?"
      ],
      "metadata": {
        "id": "31MB6lcSIR3A"
      }
    },
    {
      "cell_type": "code",
      "source": [
        "number = int(input (\"Enter the number: \"))\n",
        "print (\"The Multiplication Table of: \", number)\n",
        "for count in range(1, 11):\n",
        "   print (number, 'x', count, '=', number * count)"
      ],
      "metadata": {
        "colab": {
          "base_uri": "https://localhost:8080/"
        },
        "id": "p3ODz25pJBO9",
        "outputId": "2c45fe8a-5a53-4988-f82d-a722193eefb3"
      },
      "execution_count": 3,
      "outputs": [
        {
          "output_type": "stream",
          "name": "stdout",
          "text": [
            "Enter the number: 6\n",
            "The Multiplication Table of:  6\n",
            "6 x 1 = 6\n",
            "6 x 2 = 12\n",
            "6 x 3 = 18\n",
            "6 x 4 = 24\n",
            "6 x 5 = 30\n",
            "6 x 6 = 36\n",
            "6 x 7 = 42\n",
            "6 x 8 = 48\n",
            "6 x 9 = 54\n",
            "6 x 10 = 60\n"
          ]
        }
      ]
    },
    {
      "cell_type": "markdown",
      "source": [
        "### 3. Write a Python Program to Print the Fibonacci sequence?"
      ],
      "metadata": {
        "id": "PLee6qjzIXEo"
      }
    },
    {
      "cell_type": "code",
      "source": [
        "n=int(input(\"Enter the number : \"))\n",
        "def fibonacci(n):\n",
        "  if n == 0:\n",
        "    return 0\n",
        "  elif n == 1:\n",
        "    return 1\n",
        "  else:\n",
        "    return fibonacci(n-1) + fibonacci(n-2)\n",
        "\n",
        "for i in range(10):\n",
        "  print(fibonacci(i))"
      ],
      "metadata": {
        "colab": {
          "base_uri": "https://localhost:8080/"
        },
        "id": "DMnILnruJCLo",
        "outputId": "554d7dec-b9ec-40db-c3d4-f19110b6ac2e"
      },
      "execution_count": 4,
      "outputs": [
        {
          "output_type": "stream",
          "name": "stdout",
          "text": [
            "Enter the number : 7\n",
            "0\n",
            "1\n",
            "1\n",
            "2\n",
            "3\n",
            "5\n",
            "8\n",
            "13\n",
            "21\n",
            "34\n"
          ]
        }
      ]
    },
    {
      "cell_type": "markdown",
      "source": [
        "### 4. Write a Python Program to Check Armstrong Number?"
      ],
      "metadata": {
        "id": "lMCX4LFsIZKv"
      }
    },
    {
      "cell_type": "code",
      "source": [
        "import math\n",
        "\n",
        "def isArmstrong(num):\n",
        "\tn = num\n",
        "\tnumDigits = 0\n",
        "\tsum = 0\n",
        "\n",
        "\twhile n > 0:\n",
        "\t\tn //= 10\n",
        "\t\tnumDigits += 1\n",
        "\n",
        "\tn = num\n",
        "\n",
        "\twhile n > 0:\n",
        "\t\tdigit = n % 10\n",
        "\t\tsum += math.pow(digit, numDigits)\n",
        "\t\tn //= 10\n",
        "\n",
        "\tif sum == num:\n",
        "\t\treturn True\n",
        "\treturn False\n",
        "\n",
        "\n",
        "num =int(input(\"Enter the number of your choice : \"))\n",
        "if isArmstrong(num):\n",
        "\tprint(num, \"is an Armstrong number.\")\n",
        "else:\n",
        "\tprint(num, \"is not an Armstrong number.\")\n",
        "\n"
      ],
      "metadata": {
        "colab": {
          "base_uri": "https://localhost:8080/"
        },
        "id": "MIPupbZfJDJ4",
        "outputId": "a0de6919-4d57-4f2b-900c-7b97b5dd312c"
      },
      "execution_count": 6,
      "outputs": [
        {
          "output_type": "stream",
          "name": "stdout",
          "text": [
            "Enter the number of your choice : 153\n",
            "153 is an Armstrong number.\n"
          ]
        }
      ]
    },
    {
      "cell_type": "code",
      "source": [
        "import math\n",
        "\n",
        "def isArmstrong(num):\n",
        "\tn = num\n",
        "\tnumDigits = 0\n",
        "\tsum = 0\n",
        "\n",
        "\twhile n > 0:\n",
        "\t\tn //= 10\n",
        "\t\tnumDigits += 1\n",
        "\n",
        "\tn = num\n",
        "\n",
        "\twhile n > 0:\n",
        "\t\tdigit = n % 10\n",
        "\t\tsum += math.pow(digit, numDigits)\n",
        "\t\tn //= 10\n",
        "\n",
        "\tif sum == num:\n",
        "\t\treturn True\n",
        "\treturn False\n",
        "\n",
        "\n",
        "num =int(input(\"Enter the number of your choice : \"))\n",
        "if isArmstrong(num):\n",
        "\tprint(num, \"is an Armstrong number.\")\n",
        "else:\n",
        "\tprint(num, \"is not an Armstrong number.\")\n",
        "\n"
      ],
      "metadata": {
        "colab": {
          "base_uri": "https://localhost:8080/"
        },
        "id": "WkIHjvcYQls7",
        "outputId": "724d27ac-0826-4c15-a5af-cbc1585b359f"
      },
      "execution_count": 7,
      "outputs": [
        {
          "output_type": "stream",
          "name": "stdout",
          "text": [
            "Enter the number of your choice : 154\n",
            "154 is not an Armstrong number.\n"
          ]
        }
      ]
    },
    {
      "cell_type": "markdown",
      "source": [
        "### 5. Write a Python Program to Find Armstrong Number in an Interval?"
      ],
      "metadata": {
        "id": "D2_nF8AEIa-G"
      }
    },
    {
      "cell_type": "code",
      "source": [
        "\n",
        "lwr = int(input(\"Enter lower limit of interval : \"))\n",
        "uppr =  int(input(\"Enter upper limit of interval: \"))\n",
        "for num in range(lwr, uppr + 1):\n",
        "   odr = len(str(num))\n",
        "   sum = 0\n",
        "   tem = num\n",
        "\n",
        "   while tem > 0:\n",
        "\n",
        "       digit = tem % 10\n",
        "       sum += digit ** odr\n",
        "       tem //= 10\n",
        "\n",
        "   if num == sum:\n",
        "\n",
        "       print(\"The Armstrong numbers are: \",num)\n"
      ],
      "metadata": {
        "colab": {
          "base_uri": "https://localhost:8080/"
        },
        "id": "9_x0BUhqJDxy",
        "outputId": "0212c88e-ae38-4957-ec72-dd9278d7217b"
      },
      "execution_count": 9,
      "outputs": [
        {
          "output_type": "stream",
          "name": "stdout",
          "text": [
            "Enter lower limit of interval : 100\n",
            "Enter upper limit of interval: 10000\n",
            "The Armstrong numbers are:  153\n",
            "The Armstrong numbers are:  370\n",
            "The Armstrong numbers are:  371\n",
            "The Armstrong numbers are:  407\n",
            "The Armstrong numbers are:  1634\n",
            "The Armstrong numbers are:  8208\n",
            "The Armstrong numbers are:  9474\n"
          ]
        }
      ]
    },
    {
      "cell_type": "markdown",
      "source": [
        "### 6. Write a Python Program to Find the Sum of Natural Numbers?"
      ],
      "metadata": {
        "id": "SYTf60-FIc8X"
      }
    },
    {
      "cell_type": "code",
      "source": [
        "\n",
        "num = int(input('Enter a number:'))\n",
        "\n",
        "if num < 0:\n",
        "   num = input('Please enter a positive number:')\n",
        "else:\n",
        "   sum = 0\n",
        "   while(num > 0):\n",
        "       sum += num\n",
        "       num -= 1\n",
        "   print(\"The sum of the natural numbers is:\", sum)"
      ],
      "metadata": {
        "colab": {
          "base_uri": "https://localhost:8080/"
        },
        "id": "tJQoDNJcIgFi",
        "outputId": "540b6e3a-d1f4-49b2-b17f-7823c50f0dd0"
      },
      "execution_count": 10,
      "outputs": [
        {
          "output_type": "stream",
          "name": "stdout",
          "text": [
            "Enter a number:20\n",
            "The sum of the natural numbers is: 210\n"
          ]
        }
      ]
    }
  ]
}