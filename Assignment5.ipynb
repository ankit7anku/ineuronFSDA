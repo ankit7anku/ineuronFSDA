{
  "nbformat": 4,
  "nbformat_minor": 0,
  "metadata": {
    "colab": {
      "provenance": []
    },
    "kernelspec": {
      "name": "python3",
      "display_name": "Python 3"
    },
    "language_info": {
      "name": "python"
    }
  },
  "cells": [
    {
      "cell_type": "markdown",
      "source": [
        "### 1. Write a Python Program to Find LCM?"
      ],
      "metadata": {
        "id": "JYU4t2DrIos_"
      }
    },
    {
      "cell_type": "code",
      "source": [
        "def gcd(a, b):\n",
        "    while b:\n",
        "        a, b = b, a % b\n",
        "    return a\n",
        "\n",
        "def lcm(a, b):\n",
        "    return (a * b) // gcd(a, b)\n",
        "\n",
        "num1 = int(input(\"Enter first number: \"))\n",
        "num2 = int(input(\"Enter second number: \"))\n",
        "\n",
        "result = lcm(num1, num2)\n",
        "print(f\"LCM of {num1} and {num2} is {result}\")\n"
      ],
      "metadata": {
        "colab": {
          "base_uri": "https://localhost:8080/"
        },
        "id": "XzWBdsbeJG0V",
        "outputId": "d62cc589-8b7f-44b6-bb4a-dbc4871e69b5"
      },
      "execution_count": 2,
      "outputs": [
        {
          "output_type": "stream",
          "name": "stdout",
          "text": [
            "Enter first number: 5\n",
            "Enter second number: 36\n",
            "LCM of 5 and 36 is 180\n"
          ]
        }
      ]
    },
    {
      "cell_type": "markdown",
      "source": [
        "### 2. Write a Python Program to Find HCF?"
      ],
      "metadata": {
        "id": "QVHVeXZ3IqVl"
      }
    },
    {
      "cell_type": "code",
      "source": [
        "def hcf(a, b):\n",
        "    while b:\n",
        "        a, b = b, a % b\n",
        "    return a\n",
        "\n",
        "num1 = int(input(\"Enter first number: \"))\n",
        "num2 = int(input(\"Enter second number: \"))\n",
        "\n",
        "result = hcf(num1, num2)\n",
        "print(f\"HCF of {num1} and {num2} is {result}\")\n"
      ],
      "metadata": {
        "colab": {
          "base_uri": "https://localhost:8080/"
        },
        "id": "Jj6l-uVvJHV2",
        "outputId": "35c26c53-046b-4426-c41b-4143899c328b"
      },
      "execution_count": 3,
      "outputs": [
        {
          "output_type": "stream",
          "name": "stdout",
          "text": [
            "Enter first number: 36\n",
            "Enter second number: 100\n",
            "HCF of 36 and 100 is 4\n"
          ]
        }
      ]
    },
    {
      "cell_type": "markdown",
      "source": [
        "### 3. Write a Python Program to Convert Decimal to Binary, Octal and Hexadecimal?"
      ],
      "metadata": {
        "id": "ZqXcCGSkIsWJ"
      }
    },
    {
      "cell_type": "code",
      "source": [
        "decimal_num = int(input(\"Enter a decimal number: \"))\n",
        "\n",
        "binary_num = bin(decimal_num)[2:]\n",
        "octal_num = oct(decimal_num)[2:]\n",
        "hexadecimal_num = hex(decimal_num)[2:]\n",
        "\n",
        "print(f\"Binary representation: {binary_num}\")\n",
        "print(f\"Octal representation: {octal_num}\")\n",
        "print(f\"Hexadecimal representation: {hexadecimal_num}\")\n"
      ],
      "metadata": {
        "colab": {
          "base_uri": "https://localhost:8080/"
        },
        "id": "uKOJESxKJH7Y",
        "outputId": "c2e955a8-5af4-45de-b99b-a0c63613b57e"
      },
      "execution_count": 4,
      "outputs": [
        {
          "output_type": "stream",
          "name": "stdout",
          "text": [
            "Enter a decimal number: 10\n",
            "Binary representation: 1010\n",
            "Octal representation: 12\n",
            "Hexadecimal representation: a\n"
          ]
        }
      ]
    },
    {
      "cell_type": "markdown",
      "source": [
        "### 4. Write a Python Program To Find ASCII value of a character?"
      ],
      "metadata": {
        "id": "ff9XUyKJIuRK"
      }
    },
    {
      "cell_type": "code",
      "source": [
        "char = input(\"Enter a character: \")\n",
        "\n",
        "ascii_value = ord(char)\n",
        "\n",
        "print(f\"The ASCII value of '{char}' is {ascii_value}\")\n",
        ""
      ],
      "metadata": {
        "colab": {
          "base_uri": "https://localhost:8080/"
        },
        "id": "vjK_Ua4YJIyy",
        "outputId": "25e805e3-abb2-46a7-bb68-d0ce2aec48a0"
      },
      "execution_count": 6,
      "outputs": [
        {
          "output_type": "stream",
          "name": "stdout",
          "text": [
            "Enter a character: a\n",
            "The ASCII value of 'a' is 97\n"
          ]
        }
      ]
    },
    {
      "cell_type": "markdown",
      "source": [
        "### 5. Write a Python Program to Make a Simple Calculator with 4 basic mathematical operations?"
      ],
      "metadata": {
        "id": "Xmo6DaBAI3Rk"
      }
    },
    {
      "cell_type": "code",
      "source": [
        "def add(x, y):\n",
        "    return x + y\n",
        "\n",
        "def subtract(x, y):\n",
        "    return x - y\n",
        "\n",
        "def multiply(x, y):\n",
        "    return x * y\n",
        "\n",
        "def divide(x, y):\n",
        "    if y != 0:\n",
        "        return x / y\n",
        "    else:\n",
        "        return \"Cannot divide by zero\"\n",
        "while True:\n",
        "\n",
        "  print(\"Select operation:\")\n",
        "  print(\"1. Add\")\n",
        "  print(\"2. Subtract\")\n",
        "  print(\"3. Multiply\")\n",
        "  print(\"4. Divide\")\n",
        "  print(\"5. Quit\")\n",
        "\n",
        "  choice = input(\"Enter choice (1/2/3/4/5): \")\n",
        "\n",
        "  num1 = float(input(\"Enter first number: \"))\n",
        "  num2 = float(input(\"Enter second number: \"))\n",
        "\n",
        "\n",
        "  if choice == '1':\n",
        "      print(num1, \"+\", num2, \"=\", add(num1, num2))\n",
        "  elif choice == '2':\n",
        "      print(num1, \"-\", num2, \"=\", subtract(num1, num2))\n",
        "  elif choice == '3':\n",
        "      print(num1, \"*\", num2, \"=\", multiply(num1, num2))\n",
        "  elif choice == '4':\n",
        "      print(num1, \"/\", num2, \"=\", divide(num1, num2))\n",
        "  elif choice == '5':\n",
        "      print(\"Calculator exited.\")\n",
        "      break\n",
        "  else:\n",
        "      print(\"Invalid input\")\n",
        "\n",
        "  rewrite = input(\"Do you want to perform another calculation? (yes/no): \")\n",
        "  if rewrite.lower() != 'yes':\n",
        "    print(\"Calculator exited.\")\n",
        "    break\n",
        "\n",
        "\n",
        ""
      ],
      "metadata": {
        "colab": {
          "base_uri": "https://localhost:8080/"
        },
        "id": "ye3i8PnBVoa8",
        "outputId": "c5078c25-b59c-4f2b-947a-7c928a6a061c"
      },
      "execution_count": 11,
      "outputs": [
        {
          "output_type": "stream",
          "name": "stdout",
          "text": [
            "Select operation:\n",
            "1. Add\n",
            "2. Subtract\n",
            "3. Multiply\n",
            "4. Divide\n",
            "5. Quit\n",
            "Enter choice (1/2/3/4/5): 3\n",
            "Enter first number: 55\n",
            "Enter second number: 33\n",
            "55.0 * 33.0 = 1815.0\n",
            "Do you want to perform another calculation? (yes/no): yes\n",
            "Select operation:\n",
            "1. Add\n",
            "2. Subtract\n",
            "3. Multiply\n",
            "4. Divide\n",
            "5. Quit\n",
            "Enter choice (1/2/3/4/5): 4\n",
            "Enter first number: 100\n",
            "Enter second number: 20\n",
            "100.0 / 20.0 = 5.0\n",
            "Do you want to perform another calculation? (yes/no): no\n",
            "Calculator exited.\n"
          ]
        }
      ]
    }
  ]
}