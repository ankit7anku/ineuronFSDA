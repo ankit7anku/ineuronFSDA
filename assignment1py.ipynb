{
  "nbformat": 4,
  "nbformat_minor": 0,
  "metadata": {
    "colab": {
      "provenance": []
    },
    "kernelspec": {
      "name": "python3",
      "display_name": "Python 3"
    },
    "language_info": {
      "name": "python"
    }
  },
  "cells": [
    {
      "cell_type": "markdown",
      "source": [
        "### 1. Write a Python program to print \"Hello World\"?\n"
      ],
      "metadata": {
        "id": "4I5w_0EPADTW"
      }
    },
    {
      "cell_type": "code",
      "source": [
        "print('Hello World')"
      ],
      "metadata": {
        "colab": {
          "base_uri": "https://localhost:8080/"
        },
        "id": "U3Kao_zp__Tn",
        "outputId": "a96c82f0-2861-49b9-95db-f346d292391e"
      },
      "execution_count": 3,
      "outputs": [
        {
          "output_type": "stream",
          "name": "stdout",
          "text": [
            "Hello World\n"
          ]
        }
      ]
    },
    {
      "cell_type": "markdown",
      "source": [
        "## 2. Write a Python program to do arithmetical operations addition and division?"
      ],
      "metadata": {
        "id": "B93oJoaUAthm"
      }
    },
    {
      "cell_type": "code",
      "source": [
        "#Addition\n",
        "number1 = input('Enter number1: ')\n",
        "number2 = input('Enter number2: ')\n",
        "sum = float(number1) + float(number2)\n",
        "print('Addition = ' ,sum)"
      ],
      "metadata": {
        "colab": {
          "base_uri": "https://localhost:8080/"
        },
        "id": "ugAv1raN_7VC",
        "outputId": "149bd400-8aa4-4884-a44a-e883070a22bb"
      },
      "execution_count": 4,
      "outputs": [
        {
          "output_type": "stream",
          "name": "stdout",
          "text": [
            "Enter number1: 3\n",
            "Enter number2: 4\n",
            "Addition =  7.0\n"
          ]
        }
      ]
    },
    {
      "cell_type": "code",
      "source": [
        "#Division\n",
        "num1 = input('Enter first number: ')\n",
        "num2 = input('Enter second number: ')\n",
        "div = float(num1) / float(num2)\n",
        "print('Division is := ', div)"
      ],
      "metadata": {
        "colab": {
          "base_uri": "https://localhost:8080/"
        },
        "id": "QzyF9wW7BF4A",
        "outputId": "514f5d84-1a4b-4317-d7da-fb530e89ea3a"
      },
      "execution_count": 9,
      "outputs": [
        {
          "output_type": "stream",
          "name": "stdout",
          "text": [
            "Enter first number: 8\n",
            "Enter second number: 3\n",
            "Division is :=  2.6666666666666665\n"
          ]
        }
      ]
    },
    {
      "cell_type": "markdown",
      "source": [
        "### 3. Write a Python program to find the area of a triangle?"
      ],
      "metadata": {
        "id": "0V68C6QlBPzl"
      }
    },
    {
      "cell_type": "code",
      "source": [
        "base = int(input(\"Input the base : \"))\n",
        "height = int(input(\"Input the height : \"))\n",
        "\n",
        "area = base*height/2\n",
        "\n",
        "print(\"area of triangle = \", area)"
      ],
      "metadata": {
        "colab": {
          "base_uri": "https://localhost:8080/"
        },
        "id": "R-dzcVgsBGGF",
        "outputId": "da18db20-0ecf-4fc1-ccbc-dac0543c3ad7"
      },
      "execution_count": 10,
      "outputs": [
        {
          "output_type": "stream",
          "name": "stdout",
          "text": [
            "Input the base : 6\n",
            "Input the height : 12\n",
            "area of triangle =  36.0\n"
          ]
        }
      ]
    },
    {
      "cell_type": "markdown",
      "source": [
        "### 4. Write a Python program to swap two variables?"
      ],
      "metadata": {
        "id": "mFDFDabQBawz"
      }
    },
    {
      "cell_type": "code",
      "source": [
        "var1 = input('Enter first variable: ')\n",
        "var2 = input('Enter second variable: ')\n",
        "\n",
        "var1, var2 = var2,var1\n",
        "print(\"var1 =\", var1)\n",
        "print(\"var2 =\", var2)"
      ],
      "metadata": {
        "colab": {
          "base_uri": "https://localhost:8080/"
        },
        "id": "nCMKTfJmBcIS",
        "outputId": "6ab22420-37d4-495d-a124-b1c1b04f3338"
      },
      "execution_count": 11,
      "outputs": [
        {
          "output_type": "stream",
          "name": "stdout",
          "text": [
            "Enter first variable: master\n",
            "Enter second variable: neuron\n",
            "var1 = neuron\n",
            "var2 = master\n"
          ]
        }
      ]
    },
    {
      "cell_type": "markdown",
      "source": [
        "### 5. Write a Python program to generate a random number?"
      ],
      "metadata": {
        "id": "5UDvFCPOBgst"
      }
    },
    {
      "cell_type": "code",
      "source": [
        "import random\n",
        "num3=random.random()\n",
        "print(num3)"
      ],
      "metadata": {
        "colab": {
          "base_uri": "https://localhost:8080/"
        },
        "id": "5zYHrTkIAyzE",
        "outputId": "9986c3eb-814c-410f-e25f-c456e8565142"
      },
      "execution_count": 8,
      "outputs": [
        {
          "output_type": "stream",
          "name": "stdout",
          "text": [
            "0.23200743912532396\n"
          ]
        }
      ]
    }
  ]
}
