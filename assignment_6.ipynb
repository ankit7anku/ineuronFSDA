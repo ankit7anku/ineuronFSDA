{
  "nbformat": 4,
  "nbformat_minor": 0,
  "metadata": {
    "colab": {
      "provenance": []
    },
    "kernelspec": {
      "name": "python3",
      "display_name": "Python 3"
    },
    "language_info": {
      "name": "python"
    }
  },
  "cells": [
    {
      "cell_type": "markdown",
      "source": [
        "### 1. Write a Python Program to Display Fibonacci Sequence Using Recursion?\n"
      ],
      "metadata": {
        "id": "lm76ByMSYnHZ"
      }
    },
    {
      "cell_type": "code",
      "source": [
        "def fib(n):\n",
        "    if n <= 0:\n",
        "        return []\n",
        "    elif n == 1:\n",
        "        return [0]\n",
        "    elif n == 2:\n",
        "        return [0, 1]\n",
        "    else:\n",
        "        fib_list = fib(n - 1)\n",
        "        fib_list.append(fib_list[-1] + fib_list[-2])\n",
        "        return fib_list\n",
        "\n",
        "n_terms = int(input(\"Enter  number of terms: \"))\n",
        "\n",
        "fib_sequence = fib(n_terms)\n",
        "print(\"Fibonacci series:\", fib_sequence)\n"
      ],
      "metadata": {
        "colab": {
          "base_uri": "https://localhost:8080/"
        },
        "id": "GNON87jvYyso",
        "outputId": "d17b24bf-10c8-4a16-f56e-1dd39f1588e3"
      },
      "execution_count": 6,
      "outputs": [
        {
          "output_type": "stream",
          "name": "stdout",
          "text": [
            "Enter  number of terms: 7\n",
            "Fibonacci series: [0, 1, 1, 2, 3, 5, 8]\n"
          ]
        }
      ]
    },
    {
      "cell_type": "markdown",
      "source": [
        "### 2. Write a Python Program to Find Factorial of Number Using Recursion?"
      ],
      "metadata": {
        "id": "INMkO-GtYoRe"
      }
    },
    {
      "cell_type": "code",
      "source": [
        "def factorial(n):\n",
        "    if n == 0 or n == 1:\n",
        "        return 1\n",
        "    else:\n",
        "        return n * factorial(n - 1)\n",
        "\n",
        "num = int(input(\"Enter a number: \"))\n",
        "result = factorial(num)\n",
        "print(f\"The factorial of {num} is {result}\")\n"
      ],
      "metadata": {
        "colab": {
          "base_uri": "https://localhost:8080/"
        },
        "id": "54dS0wqyZCzy",
        "outputId": "02b46283-6c3b-433d-dddb-aacb083524d5"
      },
      "execution_count": 2,
      "outputs": [
        {
          "output_type": "stream",
          "name": "stdout",
          "text": [
            "Enter a number: 7\n",
            "The factorial of 7 is 5040\n"
          ]
        }
      ]
    },
    {
      "cell_type": "markdown",
      "source": [
        "### 3. Write a Python Program to calculate your Body Mass Index?"
      ],
      "metadata": {
        "id": "pde6Vs74YsMd"
      }
    },
    {
      "cell_type": "code",
      "source": [
        "def bmi(weight, height):\n",
        "    bmi = weight / (height ** 2)\n",
        "    return bmi\n",
        "\n",
        "weight = float(input(\"Enter your weight in kilograms: \"))\n",
        "height = float(input(\"Enter your height in meters: \"))\n",
        "\n",
        "bmi = bmi(weight, height)\n",
        "print(f\"Your Body Mass Index (BMI) is {bmi:.2f}\")\n"
      ],
      "metadata": {
        "colab": {
          "base_uri": "https://localhost:8080/"
        },
        "id": "Yd2tnrw1ZNSi",
        "outputId": "446c075d-854c-4e8b-d25d-25f46d623f6e"
      },
      "execution_count": 7,
      "outputs": [
        {
          "output_type": "stream",
          "name": "stdout",
          "text": [
            "Enter your weight in kilograms: 70\n",
            "Enter your height in meters: 1.60\n",
            "Your Body Mass Index (BMI) is 27.34\n"
          ]
        }
      ]
    },
    {
      "cell_type": "markdown",
      "source": [
        "### 4. Write a Python Program to calculate the natural logarithm of any number?"
      ],
      "metadata": {
        "id": "uQ8-zEM7Ys_X"
      }
    },
    {
      "cell_type": "code",
      "source": [
        "import math\n",
        "\n",
        "number = float(input(\"Enter a number: \"))\n",
        "\n",
        "if number <= 0:\n",
        "    print(\"Natural logarithm is undefined for non-positive numbers.\")\n",
        "else:\n",
        "    natural_log = math.log(number)\n",
        "    print(f\"The natural logarithm of {number} is {natural_log:.4f}\")\n"
      ],
      "metadata": {
        "colab": {
          "base_uri": "https://localhost:8080/"
        },
        "id": "FLOqthCwZlAX",
        "outputId": "4d32a618-ae2b-4679-f582-9cd0009176ed"
      },
      "execution_count": 4,
      "outputs": [
        {
          "output_type": "stream",
          "name": "stdout",
          "text": [
            "Enter a number: 10\n",
            "The natural logarithm of 10.0 is 2.3026\n"
          ]
        }
      ]
    },
    {
      "cell_type": "markdown",
      "source": [
        "\n",
        "### 5. Write a Python Program for cube sum of first n natural numbers?\n"
      ],
      "metadata": {
        "id": "CB6onvI6YwVa"
      }
    },
    {
      "cell_type": "code",
      "source": [
        "def sum_cube(n):\n",
        "    total = 0\n",
        "    for i in range(1, n + 1):\n",
        "        total += i ** 3\n",
        "    return total\n",
        "\n",
        "n = int(input(\"Enter the value of n: \"))\n",
        "result = sum_cube(n)\n",
        "print(f\"The sum of the cubes of the first {n} natural numbers is {result}\")\n"
      ],
      "metadata": {
        "colab": {
          "base_uri": "https://localhost:8080/"
        },
        "id": "MZYu8AbEYxY7",
        "outputId": "dd39bb54-041a-4eea-ee71-d60c81fed480"
      },
      "execution_count": 8,
      "outputs": [
        {
          "output_type": "stream",
          "name": "stdout",
          "text": [
            "Enter the value of n: 5\n",
            "The sum of the cubes of the first 5 natural numbers is 225\n"
          ]
        }
      ]
    }
  ]
}