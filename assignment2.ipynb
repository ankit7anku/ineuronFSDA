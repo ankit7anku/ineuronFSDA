{
  "nbformat": 4,
  "nbformat_minor": 0,
  "metadata": {
    "colab": {
      "provenance": []
    },
    "kernelspec": {
      "name": "python3",
      "display_name": "Python 3"
    },
    "language_info": {
      "name": "python"
    }
  },
  "cells": [
    {
      "cell_type": "markdown",
      "source": [
        "### Write a Python program to convert kilometers to miles?\n"
      ],
      "metadata": {
        "id": "HkUZKqF-EBtF"
      }
    },
    {
      "cell_type": "code",
      "source": [
        "km = int(input('Enter distance in kilometrs - '))\n",
        "conv_factor = 0.621371\n",
        "mile=km*conv_factor\n",
        "print(km,'km in mile =',mile)"
      ],
      "metadata": {
        "colab": {
          "base_uri": "https://localhost:8080/"
        },
        "id": "6SgX_CN4EDrW",
        "outputId": "11477e7b-4e13-4e1b-ed37-292e06847f29"
      },
      "execution_count": 8,
      "outputs": [
        {
          "output_type": "stream",
          "name": "stdout",
          "text": [
            "Enter distance in kilometrs - 2\n",
            "2 km in mile = 1.242742\n"
          ]
        }
      ]
    },
    {
      "cell_type": "markdown",
      "source": [
        "### 2.Write a Python program to convert Celsius to Fahrenheit?"
      ],
      "metadata": {
        "id": "o5WbqqkZEGWO"
      }
    },
    {
      "cell_type": "code",
      "source": [
        "c= float(input('Temp in celcius :- '))\n",
        "f=(c*9/5)+32\n",
        "print('Temp in fahrenheit is ',f)"
      ],
      "metadata": {
        "colab": {
          "base_uri": "https://localhost:8080/"
        },
        "id": "XvgsNIiHGcPj",
        "outputId": "2d2e7baa-febc-4a5e-baef-8445b68611df"
      },
      "execution_count": 9,
      "outputs": [
        {
          "output_type": "stream",
          "name": "stdout",
          "text": [
            "Temp in celcius :- 37\n",
            "Temp in fahrenheit is  98.6\n"
          ]
        }
      ]
    },
    {
      "cell_type": "markdown",
      "source": [
        "###3. Write a Python program to display calendar?\n"
      ],
      "metadata": {
        "id": "DR3qRvfWEH8s"
      }
    },
    {
      "cell_type": "code",
      "source": [
        "import calendar\n",
        "yy = int(input(\"Enter year: \"))\n",
        "mm = int(input(\"Enter month: \"))\n",
        "print(calendar.month(yy,mm))"
      ],
      "metadata": {
        "colab": {
          "base_uri": "https://localhost:8080/"
        },
        "id": "cUsm08gdHOMN",
        "outputId": "2d2179ed-6b50-4536-9a57-7d9e7475dff6"
      },
      "execution_count": 11,
      "outputs": [
        {
          "output_type": "stream",
          "name": "stdout",
          "text": [
            "Enter year: 2023\n",
            "Enter month: 08\n",
            "    August 2023\n",
            "Mo Tu We Th Fr Sa Su\n",
            "    1  2  3  4  5  6\n",
            " 7  8  9 10 11 12 13\n",
            "14 15 16 17 18 19 20\n",
            "21 22 23 24 25 26 27\n",
            "28 29 30 31\n",
            "\n"
          ]
        }
      ]
    },
    {
      "cell_type": "markdown",
      "source": [
        "### 4. Write a Python program to solve quadratic equation?"
      ],
      "metadata": {
        "id": "Jt4Jw916EKTb"
      }
    },
    {
      "cell_type": "code",
      "source": [
        "#ax2 + bx + c = 0, where\n",
        "#a, b and c are real numbers and\n",
        "#a ≠ 0\n",
        "#d=b2-4ac\n",
        "#-b+-d*0.5/2a\n",
        "\n",
        "import cmath\n",
        "a = float(input('Enter a: '))\n",
        "b = float(input('Enter b: '))\n",
        "c = float(input('Enter c: '))\n",
        "\n",
        "# calculate the discriminant\n",
        "d = (b**2) - (4*a*c)\n",
        "\n",
        "# find two solutions\n",
        "sol1 = (-b-cmath.sqrt(d))/(2*a)\n",
        "sol2 = (-b+cmath.sqrt(d))/(2*a)\n",
        "print('The solution are {0} and {1}'.format(sol1,sol2))"
      ],
      "metadata": {
        "colab": {
          "base_uri": "https://localhost:8080/"
        },
        "id": "k6ksk01tHyoV",
        "outputId": "602f6f13-d8d7-4003-83f8-e79429e90662"
      },
      "execution_count": 12,
      "outputs": [
        {
          "output_type": "stream",
          "name": "stdout",
          "text": [
            "Enter a: 1\n",
            "Enter b: 2\n",
            "Enter c: 6\n",
            "The solution are (-1-2.23606797749979j) and (-1+2.23606797749979j)\n"
          ]
        }
      ]
    },
    {
      "cell_type": "markdown",
      "source": [
        "###5. Write a Python program to swap two variables without temp variable?"
      ],
      "metadata": {
        "id": "dp1IszDdEMWo"
      }
    },
    {
      "cell_type": "code",
      "source": [
        "var1 = input('Enter first variable: ')\n",
        "var2 = input('Enter second variable: ')\n",
        "\n",
        "var1, var2 = var2,var1\n",
        "print(\"var1 =\", var1)\n",
        "print(\"var2 =\", var2)"
      ],
      "metadata": {
        "colab": {
          "base_uri": "https://localhost:8080/"
        },
        "id": "G0xr0xJoHE8k",
        "outputId": "5108eb2f-1e79-4891-939e-072f65e36f54"
      },
      "execution_count": 10,
      "outputs": [
        {
          "output_type": "stream",
          "name": "stdout",
          "text": [
            "Enter first variable: Krish\n",
            "Enter second variable: Naik\n",
            "var1 = Naik\n",
            "var2 = Krish\n"
          ]
        }
      ]
    }
  ]
}