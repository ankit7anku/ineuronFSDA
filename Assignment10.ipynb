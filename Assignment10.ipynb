{
  "nbformat": 4,
  "nbformat_minor": 0,
  "metadata": {
    "colab": {
      "provenance": []
    },
    "kernelspec": {
      "name": "python3",
      "display_name": "Python 3"
    },
    "language_info": {
      "name": "python"
    }
  },
  "cells": [
    {
      "cell_type": "markdown",
      "source": [
        "#Write a Python program to find the sum of elements in a list"
      ],
      "metadata": {
        "id": "hW3Y2UwqWmOO"
      }
    },
    {
      "cell_type": "code",
      "execution_count": 3,
      "metadata": {
        "colab": {
          "base_uri": "https://localhost:8080/"
        },
        "id": "LOvimxdfWgcb",
        "outputId": "86f17111-5a1d-4592-cd12-151dbd281fb7"
      },
      "outputs": [
        {
          "output_type": "stream",
          "name": "stdout",
          "text": [
            " enter the number of elements in list5\n",
            "Please enter element2\n",
            "Please enter element3\n",
            "Please enter element5\n",
            "Please enter element6\n",
            "Please enter element8\n",
            "List element are [2, 3, 5, 6, 8]\n",
            "Sum of all elements in list are as :-  24\n"
          ]
        }
      ],
      "source": [
        "n = int(input(\" enter the number of elements in list\"))\n",
        "list1=[]\n",
        "for i in range(0,n):\n",
        "  element=int(input(\"Please enter element\"))\n",
        "  list1.append(element)\n",
        "\n",
        "\n",
        "print(\"List element are\",list1)\n",
        "\n",
        "sum_total=0;\n",
        "\n",
        "\n",
        "for j in range(0,n):\n",
        "  sum_total=sum_total+list1[j]\n",
        "\n",
        "\n",
        "print(\"Sum of all elements in list are as :- \",sum_total)\n",
        ""
      ]
    },
    {
      "cell_type": "markdown",
      "source": [
        "#Write a Python program to Multiply all numbers in the list?\n"
      ],
      "metadata": {
        "id": "qzFgdA2oa6Dy"
      }
    },
    {
      "cell_type": "code",
      "source": [
        "n = int(input(\" enter the number of elements in list:- \"))\n",
        "list1=[]\n",
        "for i in range(0,n):\n",
        "  element=int(input(\"Please enter element :- \"))\n",
        "  list1.append(element)\n",
        "\n",
        "\n",
        "print(\"List element are :- \",list1)\n",
        "\n",
        "mul = 1;\n",
        "\n",
        "\n",
        "for j in range(0,n):\n",
        "  mul=mul*list1[j]\n",
        "\n",
        "\n",
        "print(\"Sum of all elements in list are as :- \", mul)"
      ],
      "metadata": {
        "colab": {
          "base_uri": "https://localhost:8080/"
        },
        "id": "JSob7fOqa0QD",
        "outputId": "ecf29771-13ea-4777-8000-9b8dedaa9b56"
      },
      "execution_count": 5,
      "outputs": [
        {
          "output_type": "stream",
          "name": "stdout",
          "text": [
            " enter the number of elements in list:- 5\n",
            "Please enter element :- 2\n",
            "Please enter element :- 4\n",
            "Please enter element :- 5\n",
            "Please enter element :- 6\n",
            "Please enter element :- 7\n",
            "List element are :-  [2, 4, 5, 6, 7]\n",
            "Sum of all elements in list are as :-  1680\n"
          ]
        }
      ]
    },
    {
      "cell_type": "markdown",
      "source": [
        "#Write a Python program to find the smallest number in a list?\n"
      ],
      "metadata": {
        "id": "f4aFEBMMbaxj"
      }
    },
    {
      "cell_type": "code",
      "source": [
        "n = int(input(\" enter the number of elements in list:- \"))\n",
        "list1=[]\n",
        "for i in range(0,n):\n",
        "  element=int(input(\"Please enter element :- \"))\n",
        "  list1.append(element)\n",
        "\n",
        "print(\"List element are :- \",list1)\n",
        "\n",
        "list1.sort()\n",
        "\n",
        "print(\"smallest element = \", list1[0])\n"
      ],
      "metadata": {
        "colab": {
          "base_uri": "https://localhost:8080/"
        },
        "id": "bXFAXZ0abefq",
        "outputId": "6fe7a379-e732-420f-d538-13329d6f7a9e"
      },
      "execution_count": 6,
      "outputs": [
        {
          "output_type": "stream",
          "name": "stdout",
          "text": [
            " enter the number of elements in list:- 3\n",
            "Please enter element :- 10\n",
            "Please enter element :- -1\n",
            "Please enter element :- 4\n",
            "List element are :-  [10, -1, 4]\n",
            "smallest element =  -1\n"
          ]
        }
      ]
    },
    {
      "cell_type": "markdown",
      "source": [
        "#Write a Python program to find the largest number in a list?"
      ],
      "metadata": {
        "id": "FxrZ_16ncYg_"
      }
    },
    {
      "cell_type": "code",
      "source": [
        "n = int(input(\" enter the number of elements in list:- \"))\n",
        "list1=[]\n",
        "for i in range(0,n):\n",
        "  element=int(input(\"Please enter element :- \"))\n",
        "  list1.append(element)\n",
        "\n",
        "print(\"List element are :- \",list1)\n",
        "\n",
        "list1.sort()\n",
        "\n",
        "print(\"Largest element = \", list1[-1])\n"
      ],
      "metadata": {
        "colab": {
          "base_uri": "https://localhost:8080/"
        },
        "id": "ZegWye6uccmK",
        "outputId": "a2c25633-9d9d-452c-e49d-6c3818dc27a1"
      },
      "execution_count": 7,
      "outputs": [
        {
          "output_type": "stream",
          "name": "stdout",
          "text": [
            " enter the number of elements in list:- 3\n",
            "Please enter element :- 199\n",
            "Please enter element :- 2937\n",
            "Please enter element :- 9999\n",
            "List element are :-  [199, 2937, 9999]\n",
            "Largest element =  9999\n"
          ]
        }
      ]
    },
    {
      "cell_type": "markdown",
      "source": [
        "#Write a Python program to find the second largest number in a list?"
      ],
      "metadata": {
        "id": "HVPfLWTwcprq"
      }
    },
    {
      "cell_type": "code",
      "source": [
        "n = int(input(\" enter the number of elements in list:- \"))\n",
        "list1=[]\n",
        "for i in range(0,n):\n",
        "  element=int(input(\"Please enter element :- \"))\n",
        "  list1.append(element)\n",
        "\n",
        "print(\"List element are :- \",list1)\n",
        "\n",
        "list1.sort()\n",
        "\n",
        "print(\"2nd Largest element = \", list1[-2])\n"
      ],
      "metadata": {
        "colab": {
          "base_uri": "https://localhost:8080/"
        },
        "id": "Qkl851kdctce",
        "outputId": "f9d01bb2-a568-450c-d331-5a304fbfa88b"
      },
      "execution_count": 9,
      "outputs": [
        {
          "output_type": "stream",
          "name": "stdout",
          "text": [
            " enter the number of elements in list:- 5\n",
            "Please enter element :- 12\n",
            "Please enter element :- 13\n",
            "Please enter element :- 14\n",
            "Please enter element :- 15\n",
            "Please enter element :- 16\n",
            "List element are :-  [12, 13, 14, 15, 16]\n",
            "2nd Largest element =  15\n"
          ]
        }
      ]
    },
    {
      "cell_type": "markdown",
      "source": [
        "#Write a Python program to find N largest elements from a list?"
      ],
      "metadata": {
        "id": "xF2OR3Exc_D0"
      }
    },
    {
      "cell_type": "code",
      "source": [
        "n = int(input(\" enter the number of elements in list:- \"))\n",
        "list1=[]\n",
        "for i in range(0,n):\n",
        "  element=int(input(\"Please enter element :- \"))\n",
        "  list1.append(element)\n",
        "\n",
        "print(\"List element are :- \",list1)\n",
        "\n",
        "list1.sort()\n",
        "N = int(input(\" enter the how many largest of elements in list you wish to find :- \"))\n",
        "print(\"f'{N} Largest element = \", list1[-N:])"
      ],
      "metadata": {
        "colab": {
          "base_uri": "https://localhost:8080/"
        },
        "id": "FejW6B07dAxI",
        "outputId": "13d4b065-590b-42c6-dee2-6c021d352efb"
      },
      "execution_count": 10,
      "outputs": [
        {
          "output_type": "stream",
          "name": "stdout",
          "text": [
            " enter the number of elements in list:- 5\n",
            "Please enter element :- 2\n",
            "Please enter element :- 4\n",
            "Please enter element :- 3\n",
            "Please enter element :- 0\n",
            "Please enter element :- 5\n",
            "List element are :-  [2, 4, 3, 0, 5]\n",
            " enter the how many largest of elements in list you wish to find :- 3\n",
            "f'{N} Largest element =  [3, 4, 5]\n"
          ]
        }
      ]
    },
    {
      "cell_type": "markdown",
      "source": [
        "#Write a Python program to print even numbers in a list?\n"
      ],
      "metadata": {
        "id": "KgKpQ6z8eCgI"
      }
    },
    {
      "cell_type": "code",
      "source": [
        "n= int(input(\" enter the number of elements in list:- \"))\n",
        "list1=[]\n",
        "list2=[]\n",
        "for i in range(0,n):\n",
        "  element=int(input(\"Please enter element :- \"))\n",
        "  list1.append(element)\n",
        "\n",
        "print(\"List element are :- \",list1)\n",
        "\n",
        "for j in list1:\n",
        "  if j%2==0:\n",
        "    list2.append(j)\n",
        "\n",
        "\n",
        "print(\"all even number are :- \", list2)\n"
      ],
      "metadata": {
        "colab": {
          "base_uri": "https://localhost:8080/"
        },
        "id": "E2kbDkineFCY",
        "outputId": "1cfd26b0-3bd2-46a5-f410-9e3f42bcca5e"
      },
      "execution_count": 14,
      "outputs": [
        {
          "output_type": "stream",
          "name": "stdout",
          "text": [
            " enter the number of elements in list:- 5\n",
            "Please enter element :- 2\n",
            "Please enter element :- 3\n",
            "Please enter element :- 4\n",
            "Please enter element :- 5\n",
            "Please enter element :- 7\n",
            "List element are :-  [2, 3, 4, 5, 7]\n",
            "all even number are :-  [2, 4]\n"
          ]
        }
      ]
    },
    {
      "cell_type": "markdown",
      "source": [
        "#Write a Python program to print odd numbers in a List?\n"
      ],
      "metadata": {
        "id": "Aw-b2UFefGyX"
      }
    },
    {
      "cell_type": "code",
      "source": [
        "n= int(input(\" enter the number of elements in list:- \"))\n",
        "list1=[]\n",
        "list2=[]\n",
        "for i in range(0,n):\n",
        "  element=int(input(\"Please enter element :- \"))\n",
        "  list1.append(element)\n",
        "\n",
        "print(\"List element are :- \",list1)\n",
        "\n",
        "for j in list1:\n",
        "  if j%2!=0:\n",
        "    list2.append(j)\n",
        "\n",
        "\n",
        "print(\"all odd numbers are :- \", list2)\n"
      ],
      "metadata": {
        "colab": {
          "base_uri": "https://localhost:8080/"
        },
        "id": "6TjUiBI5fJI6",
        "outputId": "ff5709de-71a2-4e08-8182-808aff2ee4a7"
      },
      "execution_count": 15,
      "outputs": [
        {
          "output_type": "stream",
          "name": "stdout",
          "text": [
            " enter the number of elements in list:- 5\n",
            "Please enter element :- 2\n",
            "Please enter element :- -3\n",
            "Please enter element :- 5\n",
            "Please enter element :- 5\n",
            "Please enter element :- 3\n",
            "List element are :-  [2, -3, 5, 5, 3]\n",
            "all odd numbers are :-  [-3, 5, 5, 3]\n"
          ]
        }
      ]
    },
    {
      "cell_type": "markdown",
      "source": [
        "#Write a Python program to Remove an empty List from the List?"
      ],
      "metadata": {
        "id": "cXmxKhLifVQZ"
      }
    },
    {
      "cell_type": "code",
      "source": [
        "n= int(input(\" enter the number of elements in list:- \"))\n",
        "list1=[]\n",
        "list2=[]\n",
        "for i in range(0,n):\n",
        "  element=str(input(\"Please enter element :- \"))\n",
        "  list1.append(element)\n",
        "\n",
        "print(\"List element are :- \",list1)\n",
        "\n",
        "for j in list1:\n",
        "  if j:\n",
        "    list2.append(j)\n",
        "\n",
        "print(\"Modified list  :- \", list2)\n"
      ],
      "metadata": {
        "colab": {
          "base_uri": "https://localhost:8080/"
        },
        "id": "95Y1Gf0dfaak",
        "outputId": "42e702c8-804d-486d-8c30-e9fff1849cc8"
      },
      "execution_count": 17,
      "outputs": [
        {
          "output_type": "stream",
          "name": "stdout",
          "text": [
            " enter the number of elements in list:- 5\n",
            "Please enter element :- \n",
            "Please enter element :- 4\n",
            "Please enter element :- 3\n",
            "Please enter element :- \n",
            "Please enter element :- \n",
            "List element are :-  ['', '4', '3', '', '']\n",
            "Modified list  :-  ['4', '3']\n"
          ]
        }
      ]
    },
    {
      "cell_type": "markdown",
      "source": [
        "#Write a Python program to Clone or Copy a list"
      ],
      "metadata": {
        "id": "KyRnqE_FhXZC"
      }
    },
    {
      "cell_type": "code",
      "source": [
        "n= int(input(\" enter the number of elements in list:- \"))\n",
        "list1=[]\n",
        "list2=[]\n",
        "for i in range(0,n):\n",
        "  element=str(input(\"Please enter element :- \"))\n",
        "  list1.append(element)\n",
        "\n",
        "print(\"Original List element are :- \",list1)\n",
        "\n",
        "list2=list1.copy()\n",
        "\n",
        "print(\"Clone  list2 :- \", list2)\n"
      ],
      "metadata": {
        "colab": {
          "base_uri": "https://localhost:8080/"
        },
        "id": "-mfcFnejhdFk",
        "outputId": "31da1355-749c-452b-fe44-a500a56725bd"
      },
      "execution_count": 18,
      "outputs": [
        {
          "output_type": "stream",
          "name": "stdout",
          "text": [
            " enter the number of elements in list:- 5\n",
            "Please enter element :- \n",
            "Please enter element :- 3\n",
            "Please enter element :- 2\n",
            "Please enter element :- 4\n",
            "Please enter element :- 6\n",
            "Original List element are :-  ['', '3', '2', '4', '6']\n",
            "Clone  list  :-  ['', '3', '2', '4', '6']\n"
          ]
        }
      ]
    },
    {
      "cell_type": "markdown",
      "source": [
        "#Write a Python program to Count occurrences of an element in a list"
      ],
      "metadata": {
        "id": "EIlDFyirh7h-"
      }
    },
    {
      "cell_type": "code",
      "source": [
        "\n",
        "n= int(input(\" enter the number of elements in list:- \"))\n",
        "list1=[]\n",
        "for i in range(0,n):\n",
        "  element=int(input(\"Please enter element :- \"))\n",
        "  list1.append(element)\n",
        "\n",
        "print(\"Original List element are :- \",list1)\n",
        "num= int(input(\"enter the number whose occurrence you want to find out :- \"))\n",
        "\n",
        "def countX(list1,n):\n",
        "  count=0\n",
        "  for i in list1:\n",
        "    if(i==num):\n",
        "      count=count+1\n",
        "  return count\n",
        "total = countX(list1,sum)\n",
        "\n",
        "print( f'{num } has occured {total} time')\n",
        "\n",
        "\n",
        "\n"
      ],
      "metadata": {
        "colab": {
          "base_uri": "https://localhost:8080/"
        },
        "id": "AXHbAakjiCFN",
        "outputId": "58c0cab8-13a8-4da2-8fb2-3762e083a333"
      },
      "execution_count": 26,
      "outputs": [
        {
          "output_type": "stream",
          "name": "stdout",
          "text": [
            " enter the number of elements in list:- 5\n",
            "Please enter element :- 3\n",
            "Please enter element :- 2\n",
            "Please enter element :- 3\n",
            "Please enter element :- 4\n",
            "Please enter element :- 5\n",
            "Original List element are :-  [3, 2, 3, 4, 5]\n",
            "enter the number whose occurrence you want to find out :- 3\n",
            "3 has occured 2 time\n"
          ]
        }
      ]
    }
  ]
}