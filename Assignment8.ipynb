{
  "nbformat": 4,
  "nbformat_minor": 0,
  "metadata": {
    "colab": {
      "provenance": []
    },
    "kernelspec": {
      "name": "python3",
      "display_name": "Python 3"
    },
    "language_info": {
      "name": "python"
    }
  },
  "cells": [
    {
      "cell_type": "markdown",
      "source": [
        "### 1. Write a Python Program to Add Two Matrices?"
      ],
      "metadata": {
        "id": "SoM5EmZMB8Et"
      }
    },
    {
      "cell_type": "code",
      "source": [
        "matrix1 = [[1, 2, 3], [4, 5, 6], [7, 8, 9]]\n",
        "matrix2 = [[9, 8, 7], [6, 5, 4], [3, 2, 1]]\n",
        "\n",
        "if len(matrix1) != len(matrix2) or  len(matrix1[0]) != len(matrix2[0]):\n",
        "  print('Two matrix are not equal')\n",
        "else:\n",
        "  result = []\n",
        "  for i in range(len(matrix1)):\n",
        "      row = []\n",
        "      for j in range(len(matrix1[0])):\n",
        "          row.append(matrix1[i][j] + matrix2[i][j])\n",
        "      result.append(row)\n",
        "  print(result)"
      ],
      "metadata": {
        "id": "HXpbfz-iB9B8"
      },
      "execution_count": null,
      "outputs": []
    },
    {
      "cell_type": "markdown",
      "source": [
        "### 2. Write a Python Program to Multiply Two Matrices?"
      ],
      "metadata": {
        "id": "gO-jHI1vCB1g"
      }
    },
    {
      "cell_type": "code",
      "source": [
        "matrix1 = [[1, 2, 3], [4, 5, 6], [7, 8, 9]]\n",
        "matrix2 = [[9, 8, 7], [6, 5, 4], [3, 2, 1]]\n",
        "\n",
        "if len(matrix1) != len(matrix2) or  len(matrix1[0]) != len(matrix2[0]):\n",
        "  print('Two matrix are not equal')\n",
        "else:\n",
        "  result = []\n",
        "  for i in range(len(matrix1)):\n",
        "      row = []\n",
        "      for j in range(len(matrix1[0])):\n",
        "          row.append(matrix1[i][j] * matrix2[i][j])\n",
        "      result.append(row)\n",
        "  print(result)"
      ],
      "metadata": {
        "id": "4G0-LnEyCEkp"
      },
      "execution_count": null,
      "outputs": []
    },
    {
      "cell_type": "markdown",
      "source": [
        "### 3. Write a Python Program to Transpose a Matrix?"
      ],
      "metadata": {
        "id": "fIT0s_QwCHfJ"
      }
    },
    {
      "cell_type": "code",
      "source": [
        "matrix = [[9, 8, 7], [6, 5, 4], [3, 2, 1]]\n",
        "res=[[matrix[j][i] for  j in range(len(matrix))] for i in range(len(matrix[0]))]\n",
        "print(res)"
      ],
      "metadata": {
        "id": "w2cRBcziCJ0c"
      },
      "execution_count": null,
      "outputs": []
    },
    {
      "cell_type": "markdown",
      "source": [
        "\n",
        "### 4. Write a Python Program to Sort Words in Alphabetic Order?"
      ],
      "metadata": {
        "id": "nRdD1a9GCKey"
      }
    },
    {
      "cell_type": "code",
      "source": [
        "str1 = input(\"Enter a string: \")\n",
        "words = str1.split()\n",
        "words.sort()\n",
        "for i in words:\n",
        "   print(i)"
      ],
      "metadata": {
        "colab": {
          "base_uri": "https://localhost:8080/"
        },
        "id": "-Or2jyVvCMqF",
        "outputId": "0bc636b6-8698-40b9-f39f-d22283f91391"
      },
      "execution_count": 1,
      "outputs": [
        {
          "output_type": "stream",
          "name": "stdout",
          "text": [
            "Enter a string:  ineuron is Leading EdTech company\n",
            "EdTech\n",
            "Leading\n",
            "company\n",
            "ineuron\n",
            "is\n"
          ]
        }
      ]
    },
    {
      "cell_type": "markdown",
      "source": [
        "### 5. Write a Python Program to Remove Punctuation From a String?"
      ],
      "metadata": {
        "id": "IKXYD5rkCOh3"
      }
    },
    {
      "cell_type": "code",
      "source": [
        "import string\n",
        "\n",
        "str2= input(\"Enter the string :- \")\n",
        "new_string = str2.translate(str2.maketrans('', '', string.punctuation))\n",
        "print(\" Formated string is as :-- \", new_string)\n"
      ],
      "metadata": {
        "colab": {
          "base_uri": "https://localhost:8080/"
        },
        "id": "ZTyYAmFkCPPO",
        "outputId": "4bbfe528-eebf-4daf-ca80-c0e8e7523cd1"
      },
      "execution_count": 5,
      "outputs": [
        {
          "output_type": "stream",
          "name": "stdout",
          "text": [
            "Enter the string :- \"What are you doing ? \" I am doing nothing\" . What about you?\n",
            " Formated string is as :--  What are you doing   I am doing nothing  What about you\n"
          ]
        }
      ]
    }
  ]
}